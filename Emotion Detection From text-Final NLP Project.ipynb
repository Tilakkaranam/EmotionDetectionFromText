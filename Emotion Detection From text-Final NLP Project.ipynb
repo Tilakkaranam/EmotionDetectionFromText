{
 "cells": [
  {
   "cell_type": "code",
   "execution_count": 1,
   "metadata": {},
   "outputs": [],
   "source": [
    "# Importing the necessary libraries\n",
    "\n",
    "import pandas as pd\n",
    "import numpy as np\n",
    "from nltk.corpus import stopwords\n",
    "from nltk import ngrams\n",
    "from nltk import word_tokenize\n",
    "import string\n",
    "from sklearn.feature_extraction.text import TfidfVectorizer\n",
    "from sklearn import svm\n",
    "from sklearn.model_selection import train_test_split\n",
    "from sklearn.naive_bayes import MultinomialNB\n",
    "from nltk.stem import PorterStemmer \n",
    "from sklearn import metrics"
   ]
  },
  {
   "cell_type": "code",
   "execution_count": 2,
   "metadata": {},
   "outputs": [],
   "source": [
    "# Reading the data set\n",
    "\n",
    "df = pd.read_csv('/Users/sravankumar/Downloads/Emotion-Detector-master 2/ISEAR.csv',header=None)\n"
   ]
  },
  {
   "cell_type": "code",
   "execution_count": 3,
   "metadata": {},
   "outputs": [
    {
     "data": {
      "text/html": [
       "<div>\n",
       "<style scoped>\n",
       "    .dataframe tbody tr th:only-of-type {\n",
       "        vertical-align: middle;\n",
       "    }\n",
       "\n",
       "    .dataframe tbody tr th {\n",
       "        vertical-align: top;\n",
       "    }\n",
       "\n",
       "    .dataframe thead th {\n",
       "        text-align: right;\n",
       "    }\n",
       "</style>\n",
       "<table border=\"1\" class=\"dataframe\">\n",
       "  <thead>\n",
       "    <tr style=\"text-align: right;\">\n",
       "      <th></th>\n",
       "      <th>0</th>\n",
       "      <th>1</th>\n",
       "      <th>2</th>\n",
       "    </tr>\n",
       "  </thead>\n",
       "  <tbody>\n",
       "    <tr>\n",
       "      <th>0</th>\n",
       "      <td>joy</td>\n",
       "      <td>On days when I feel close to my partner and ot...</td>\n",
       "      <td>NaN</td>\n",
       "    </tr>\n",
       "    <tr>\n",
       "      <th>1</th>\n",
       "      <td>fear</td>\n",
       "      <td>Every time I imagine that someone I love or I ...</td>\n",
       "      <td>NaN</td>\n",
       "    </tr>\n",
       "    <tr>\n",
       "      <th>2</th>\n",
       "      <td>anger</td>\n",
       "      <td>When I had been obviously unjustly treated and...</td>\n",
       "      <td>NaN</td>\n",
       "    </tr>\n",
       "    <tr>\n",
       "      <th>3</th>\n",
       "      <td>sadness</td>\n",
       "      <td>When I think about the short time that we live...</td>\n",
       "      <td>NaN</td>\n",
       "    </tr>\n",
       "    <tr>\n",
       "      <th>4</th>\n",
       "      <td>disgust</td>\n",
       "      <td>At a gathering I found myself involuntarily si...</td>\n",
       "      <td>NaN</td>\n",
       "    </tr>\n",
       "  </tbody>\n",
       "</table>\n",
       "</div>"
      ],
      "text/plain": [
       "         0                                                  1    2\n",
       "0      joy  On days when I feel close to my partner and ot...  NaN\n",
       "1     fear  Every time I imagine that someone I love or I ...  NaN\n",
       "2    anger  When I had been obviously unjustly treated and...  NaN\n",
       "3  sadness  When I think about the short time that we live...  NaN\n",
       "4  disgust  At a gathering I found myself involuntarily si...  NaN"
      ]
     },
     "execution_count": 3,
     "metadata": {},
     "output_type": "execute_result"
    }
   ],
   "source": [
    "df.head()"
   ]
  },
  {
   "cell_type": "code",
   "execution_count": 4,
   "metadata": {},
   "outputs": [
    {
     "data": {
      "text/html": [
       "<div>\n",
       "<style scoped>\n",
       "    .dataframe tbody tr th:only-of-type {\n",
       "        vertical-align: middle;\n",
       "    }\n",
       "\n",
       "    .dataframe tbody tr th {\n",
       "        vertical-align: top;\n",
       "    }\n",
       "\n",
       "    .dataframe thead th {\n",
       "        text-align: right;\n",
       "    }\n",
       "</style>\n",
       "<table border=\"1\" class=\"dataframe\">\n",
       "  <thead>\n",
       "    <tr style=\"text-align: right;\">\n",
       "      <th></th>\n",
       "      <th>Emotion</th>\n",
       "      <th>Text</th>\n",
       "    </tr>\n",
       "  </thead>\n",
       "  <tbody>\n",
       "    <tr>\n",
       "      <th>0</th>\n",
       "      <td>joy</td>\n",
       "      <td>On days when I feel close to my partner and ot...</td>\n",
       "    </tr>\n",
       "    <tr>\n",
       "      <th>1</th>\n",
       "      <td>fear</td>\n",
       "      <td>Every time I imagine that someone I love or I ...</td>\n",
       "    </tr>\n",
       "    <tr>\n",
       "      <th>2</th>\n",
       "      <td>anger</td>\n",
       "      <td>When I had been obviously unjustly treated and...</td>\n",
       "    </tr>\n",
       "    <tr>\n",
       "      <th>3</th>\n",
       "      <td>sadness</td>\n",
       "      <td>When I think about the short time that we live...</td>\n",
       "    </tr>\n",
       "    <tr>\n",
       "      <th>4</th>\n",
       "      <td>disgust</td>\n",
       "      <td>At a gathering I found myself involuntarily si...</td>\n",
       "    </tr>\n",
       "  </tbody>\n",
       "</table>\n",
       "</div>"
      ],
      "text/plain": [
       "   Emotion                                               Text\n",
       "0      joy  On days when I feel close to my partner and ot...\n",
       "1     fear  Every time I imagine that someone I love or I ...\n",
       "2    anger  When I had been obviously unjustly treated and...\n",
       "3  sadness  When I think about the short time that we live...\n",
       "4  disgust  At a gathering I found myself involuntarily si..."
      ]
     },
     "execution_count": 4,
     "metadata": {},
     "output_type": "execute_result"
    }
   ],
   "source": [
    "# Removing the null values from the data set and specifying the column names\n",
    "col = [0,1]\n",
    "new_df = df[col]\n",
    "new_df = new_df[pd.notnull(df[1])]\n",
    "new_df.columns = ['Emotion','Text']\n",
    "new_df.head()"
   ]
  },
  {
   "cell_type": "code",
   "execution_count": 6,
   "metadata": {},
   "outputs": [
    {
     "data": {
      "image/png": "[encoded data removed]",
      "text/plain": [
       "<Figure size 576x432 with 1 Axes>"
      ]
     },
     "metadata": {
      "needs_background": "light"
     },
     "output_type": "display_data"
    }
   ],
   "source": [
    "#To get the plot of the emotion distribution in data\n",
    "import matplotlib.pyplot as plt\n",
    "fig = plt.figure(figsize=(8,6))\n",
    "new_df.groupby('Emotion').Text.count().plot.bar(ylim=0)\n",
    "plt.show()"
   ]
  },
  {
   "cell_type": "code",
   "execution_count": 48,
   "metadata": {},
   "outputs": [],
   "source": [
    "# Verifying the data\n",
    "#new_df['Text']\n",
    "#new_df['Emotion']"
   ]
  },
  {
   "cell_type": "code",
   "execution_count": 7,
   "metadata": {},
   "outputs": [],
   "source": [
    "# Preprocessing the data set\n",
    "# Performing Tokenization,removing new lines,punctuations\n",
    "def getTokenizedList(input_df):\n",
    "    tokenizedList=[]\n",
    "    for i in range(0,len(input_df)):\n",
    "        curText=input_df[1].iloc[i]\n",
    "        curText=curText.replace('\\n','')\n",
    "        curTokenized=word_tokenize(curText)\n",
    "        tokenizedList.append(curTokenized)\n",
    "    #print(tokenizedList)\n",
    "    tokenziedListWithoutPunct=[] \n",
    "    punctList=list(string.punctuation)\n",
    "    for i in range(0,len(tokenizedList)):\n",
    "        curList=tokenizedList[i]\n",
    "        newList=[] #list without stopwords\n",
    "        for word in curList:\n",
    "            if (word.lower() not in punctList):\n",
    "                newList.append(word.lower())\n",
    "        tokenziedListWithoutPunct.append(newList)\n",
    "\n",
    "    #print(tokenziedListWithoutPunct)\n",
    "#Stemming\n",
    "    mystemmer=PorterStemmer()\n",
    "    tokenziedStemmed=[]\n",
    "    for i in range(0,len(tokenziedListWithoutPunct)):\n",
    "        curList=tokenziedListWithoutPunct[i]\n",
    "        newList=[] \n",
    "        for word in curList:\n",
    "            newList.append(mystemmer.stem(word))\n",
    "        tokenziedStemmed.append(newList)\n",
    "    return tokenziedStemmed"
   ]
  },
  {
   "cell_type": "code",
   "execution_count": 50,
   "metadata": {},
   "outputs": [],
   "source": [
    "# Preprocessing the sentence which we input to predict the emotion\n",
    "def transformSentence(sent):\n",
    "    s = []\n",
    "    sent=sent.replace('\\n','')\n",
    "    sentTokenized=word_tokenize(sent)\n",
    "    s.append(sentTokenized)\n",
    "    sWithoutPunct = []\n",
    "    punctList = list(string.punctuation)\n",
    "    curSentList = s[0]\n",
    "    newSentList = []\n",
    "    for word in curSentList:\n",
    "        if (word.lower() not in punctList):\n",
    "            newSentList.append(word.lower())\n",
    "    sWithoutPunct.append(newSentList)\n",
    "    mystemmer = PorterStemmer()\n",
    "    tokenziedStemmed = []\n",
    "    for i in range(0,len(sWithoutPunct)):\n",
    "        curList=sWithoutPunct[i]\n",
    "        newList=[]\n",
    "        for word in curList:\n",
    "            newList.append(mystemmer.stem(word))\n",
    "        tokenziedStemmed.append(newList)\n",
    "    return tokenziedStemmed"
   ]
  },
  {
   "cell_type": "code",
   "execution_count": 8,
   "metadata": {},
   "outputs": [],
   "source": [
    "new_df['Text']=getTokenizedList(df)\n",
    "#new_df['Text']"
   ]
  },
  {
   "cell_type": "code",
   "execution_count": 9,
   "metadata": {},
   "outputs": [],
   "source": [
    "#splitting the data set into Training and Testing sets\n",
    "X_train, X_test, Y_train, Y_test=train_test_split(new_df['Text'],new_df['Emotion'], test_size=.3,random_state=1)\n",
    "#X_train"
   ]
  },
  {
   "cell_type": "code",
   "execution_count": 11,
   "metadata": {},
   "outputs": [],
   "source": [
    "#Function to pass the list to the Tfidf vectorizer\n",
    "def returnPhrase(inputList):\n",
    "    return inputList"
   ]
  },
  {
   "cell_type": "code",
   "execution_count": 12,
   "metadata": {},
   "outputs": [],
   "source": [
    "#Extracting features for Naive Bayes\n",
    "myVectorizer=TfidfVectorizer(analyzer='word',tokenizer=returnPhrase,preprocessor=returnPhrase,token_pattern=None,ngram_range=(1,3))\n",
    "myVectorizer.fit(X_train)\n",
    "transformedTrain=myVectorizer.transform(X_train).toarray()\n",
    "transformedTest=myVectorizer.transform(X_test).toarray()"
   ]
  },
  {
   "cell_type": "code",
   "execution_count": 13,
   "metadata": {},
   "outputs": [
    {
     "name": "stdout",
     "output_type": "stream",
     "text": [
      "Best Acc Naive Bayes\n",
      "0.5835920177383592\n"
     ]
    }
   ],
   "source": [
    "# Training MultinomialNB and evaluating the performance\n",
    "curAlpha=0.33 #smoothing factor in NB\n",
    "NBClassifier=MultinomialNB(alpha=curAlpha)\n",
    "NBClassifier.fit(transformedTrain,Y_train)\n",
    "myPredTest=NBClassifier.predict(transformedTest)\n",
    "print('Best Acc Naive Bayes')\n",
    "#print(curAlpha)\n",
    "print(np.sum(myPredTest==Y_test)/len(Y_test))"
   ]
  },
  {
   "cell_type": "code",
   "execution_count": 14,
   "metadata": {},
   "outputs": [
    {
     "name": "stdout",
     "output_type": "stream",
     "text": [
      "Metrics Classification Report : Naive Bayes\n",
      "             precision    recall  f1-score   support\n",
      "\n",
      "      anger       0.51      0.47      0.49       331\n",
      "    disgust       0.72      0.50      0.59       324\n",
      "       fear       0.62      0.70      0.66       311\n",
      "      guilt       0.43      0.61      0.51       299\n",
      "        joy       0.69      0.69      0.69       323\n",
      "    sadness       0.68      0.60      0.64       351\n",
      "      shame       0.52      0.51      0.52       316\n",
      "\n",
      "avg / total       0.60      0.58      0.59      2255\n",
      "\n"
     ]
    }
   ],
   "source": [
    "# Finding Precision,recall,and f1-score for Naive Bayes\n",
    "\n",
    "print('Metrics Classification Report : Naive Bayes')\n",
    "print(metrics.classification_report(Y_test, myPredTest))"
   ]
  },
  {
   "cell_type": "code",
   "execution_count": 15,
   "metadata": {},
   "outputs": [
    {
     "data": {
      "image/png": "[encoded data removed]",
      "text/plain": [
       "<Figure size 432x288 with 1 Axes>"
      ]
     },
     "metadata": {
      "needs_background": "light"
     },
     "output_type": "display_data"
    }
   ],
   "source": [
    "#Pltting a grpah for the precision and recall for each emotion - Naive bayes\n",
    "def NB_metrics_classification_report_csv(rep):\n",
    "    rep_data = []\n",
    "    lines = rep.split('\\n')\n",
    "    for line in lines[2:-3]:\n",
    "        r = {}\n",
    "        r_data = line.split(' ')\n",
    "        r_data = list(filter(None, r_data))\n",
    "        r['class'] = r_data[0]\n",
    "        r['precision'] = float(r_data[1])\n",
    "        r['recall'] = float(r_data[2])\n",
    "        r['f1-score'] = float(r_data[3])\n",
    "        r['support'] = float(r_data[4])\n",
    "        rep_data.append(r)\n",
    "    rep_df=dataframe = pd.DataFrame.from_dict(rep_data)\n",
    "    #print(dataframe)\n",
    "    plt.scatter(rep_df['precision'],rep_df['recall'])\n",
    "    plt.text(0.51,0.48,'anger')\n",
    "    plt.text(0.72,0.51,'disgust')\n",
    "    plt.text(0.62,0.71,'fear')\n",
    "    plt.text(0.43,0.63,'guilt')\n",
    "    plt.text(0.69,0.70,'joy')\n",
    "    plt.text(0.68,0.61,'sadness')\n",
    "    plt.text(0.52,0.52,'shame')\n",
    "    plt.xlabel('NB: Precision')\n",
    "    plt.ylabel('NB: Recall')\n",
    "    plt.show()\n",
    "\n",
    "report = metrics.classification_report(Y_test, myPredTest)\n",
    "NB_metrics_classification_report_csv(report)\n"
   ]
  },
  {
   "cell_type": "code",
   "execution_count": 16,
   "metadata": {},
   "outputs": [],
   "source": [
    "#Extracting the features for SVM\n",
    "myVectorizer=TfidfVectorizer(analyzer='word',tokenizer=returnPhrase,preprocessor=returnPhrase,token_pattern=None,ngram_range=(1,3))\n",
    "myVectorizer.fit(X_train)\n",
    "transformedTrain=myVectorizer.transform(X_train).toarray()\n",
    "transformedTest=myVectorizer.transform(X_test).toarray()"
   ]
  },
  {
   "cell_type": "code",
   "execution_count": 17,
   "metadata": {},
   "outputs": [
    {
     "name": "stdout",
     "output_type": "stream",
     "text": [
      "Best Acc SVM\n",
      "0.6150776053215078\n"
     ]
    }
   ],
   "source": [
    "# Training the SVM Model and Evaluating the performance\n",
    "curC=2   #cost factor in SVM\n",
    "SVMClassifier=svm.LinearSVC(C=curC)\n",
    "SVMClassifier.fit(transformedTrain,Y_train)\n",
    "myPredTest=SVMClassifier.predict(transformedTest)\n",
    "print('Best Acc SVM')\n",
    "#print(curC)\n",
    "print(np.sum(myPredTest==Y_test)/len(Y_test))"
   ]
  },
  {
   "cell_type": "code",
   "execution_count": 18,
   "metadata": {},
   "outputs": [
    {
     "name": "stdout",
     "output_type": "stream",
     "text": [
      "Metrics Classification Report : SVM\n",
      "             precision    recall  f1-score   support\n",
      "\n",
      "      anger       0.54      0.55      0.54       331\n",
      "    disgust       0.67      0.60      0.63       324\n",
      "       fear       0.66      0.72      0.69       311\n",
      "      guilt       0.51      0.57      0.53       299\n",
      "        joy       0.71      0.71      0.71       323\n",
      "    sadness       0.67      0.65      0.66       351\n",
      "      shame       0.56      0.50      0.53       316\n",
      "\n",
      "avg / total       0.62      0.62      0.61      2255\n",
      "\n"
     ]
    }
   ],
   "source": [
    "#Finding the precision,recall and f1-score for each emotion - SVM\n",
    "print('Metrics Classification Report : SVM')\n",
    "print(metrics.classification_report(Y_test, myPredTest))"
   ]
  },
  {
   "cell_type": "code",
   "execution_count": 19,
   "metadata": {},
   "outputs": [
    {
     "data": {
      "image/png": "[encoded data removed]",
      "text/plain": [
       "<Figure size 432x288 with 1 Axes>"
      ]
     },
     "metadata": {
      "needs_background": "light"
     },
     "output_type": "display_data"
    }
   ],
   "source": [
    "def SVM_metrics_classification_report_csv(rep):\n",
    "    rep_data = []\n",
    "    lines = rep.split('\\n')\n",
    "    for line in lines[2:-3]:\n",
    "        r = {}\n",
    "        r_data = line.split(' ')\n",
    "        r_data = list(filter(None, r_data))\n",
    "        r['class'] = r_data[0]\n",
    "        r['precision'] = float(r_data[1])\n",
    "        r['recall'] = float(r_data[2])\n",
    "        r['f1-score'] = float(r_data[3])\n",
    "        r['support'] = float(r_data[4])\n",
    "        rep_data.append(r)\n",
    "    rep_df=dataframe = pd.DataFrame.from_dict(rep_data)\n",
    "    #print(dataframe)\n",
    "    plt.scatter(rep_df['precision'],rep_df['recall'])\n",
    "    plt.text(0.54,0.56,'anger')\n",
    "    plt.text(0.67,0.61,'disgust')\n",
    "    plt.text(0.65,0.73,'fear')\n",
    "    plt.text(0.50,0.57,'guilt')\n",
    "    plt.text(0.71,0.72,'joy')\n",
    "    plt.text(0.67,0.66,'sadness')\n",
    "    plt.text(0.56,0.51,'shame')\n",
    "    plt.xlabel('SVM: Precision')\n",
    "    plt.ylabel('SVM: Recall')\n",
    "    plt.show()\n",
    "\n",
    "report = metrics.classification_report(Y_test, myPredTest)\n",
    "SVM_metrics_classification_report_csv(report)\n"
   ]
  },
  {
   "cell_type": "code",
   "execution_count": 20,
   "metadata": {},
   "outputs": [],
   "source": [
    "#To predict the emotion of a sentence using Naive Bayes\n",
    "def predictSentNB(sent):\n",
    "    sentPred = NBClassifier.predict(myVectorizer.transform(transformSentence(sent)).toarray())\n",
    "    return sentPred"
   ]
  },
  {
   "cell_type": "code",
   "execution_count": 21,
   "metadata": {},
   "outputs": [],
   "source": [
    "#To predict the emotion of a sentence using SVM\n",
    "def predictSentSVM(sent):\n",
    "    sentPred = SVMClassifier.predict(myVectorizer.transform(transformSentence(sent)).toarray())\n",
    "    return sentPred"
   ]
  },
  {
   "cell_type": "code",
   "execution_count": 22,
   "metadata": {},
   "outputs": [],
   "source": [
    "#Input sentence \n",
    "sent = \"I saw a cockroach\""
   ]
  },
  {
   "cell_type": "code",
   "execution_count": 31,
   "metadata": {},
   "outputs": [
    {
     "name": "stdout",
     "output_type": "stream",
     "text": [
      "Navie bayes prediction\n"
     ]
    },
    {
     "ename": "NameError",
     "evalue": "name 'transformSentence' is not defined",
     "output_type": "error",
     "traceback": [
      "\u001b[0;31m---------------------------------------------------------------------------\u001b[0m",
      "\u001b[0;31mNameError\u001b[0m                                 Traceback (most recent call last)",
      "\u001b[0;32m<ipython-input-31-1fccc0ce27ae>\u001b[0m in \u001b[0;36m<module>\u001b[0;34m()\u001b[0m\n\u001b[1;32m      1\u001b[0m \u001b[0;31m#Printing the predicted emotion\u001b[0m\u001b[0;34m\u001b[0m\u001b[0;34m\u001b[0m\u001b[0m\n\u001b[1;32m      2\u001b[0m \u001b[0mprint\u001b[0m\u001b[0;34m(\u001b[0m\u001b[0;34m\"Navie bayes prediction\"\u001b[0m\u001b[0;34m)\u001b[0m\u001b[0;34m\u001b[0m\u001b[0m\n\u001b[0;32m----> 3\u001b[0;31m \u001b[0mprint\u001b[0m\u001b[0;34m(\u001b[0m\u001b[0mpredictSentNB\u001b[0m\u001b[0;34m(\u001b[0m\u001b[0msent\u001b[0m\u001b[0;34m)\u001b[0m\u001b[0;34m)\u001b[0m\u001b[0;34m\u001b[0m\u001b[0m\n\u001b[0m\u001b[1;32m      4\u001b[0m \u001b[0mprint\u001b[0m\u001b[0;34m(\u001b[0m\u001b[0;34m\"SVM prediction\"\u001b[0m\u001b[0;34m)\u001b[0m\u001b[0;34m\u001b[0m\u001b[0m\n\u001b[1;32m      5\u001b[0m \u001b[0mprint\u001b[0m\u001b[0;34m(\u001b[0m\u001b[0mpredictSentSVM\u001b[0m\u001b[0;34m(\u001b[0m\u001b[0msent\u001b[0m\u001b[0;34m)\u001b[0m\u001b[0;34m)\u001b[0m\u001b[0;34m\u001b[0m\u001b[0m\n",
      "\u001b[0;32m<ipython-input-24-e43a300d66f2>\u001b[0m in \u001b[0;36mpredictSentNB\u001b[0;34m(sent)\u001b[0m\n\u001b[1;32m      1\u001b[0m \u001b[0;31m#To predict the emotion of a sentence using Naive Bayes\u001b[0m\u001b[0;34m\u001b[0m\u001b[0;34m\u001b[0m\u001b[0m\n\u001b[1;32m      2\u001b[0m \u001b[0;32mdef\u001b[0m \u001b[0mpredictSentNB\u001b[0m\u001b[0;34m(\u001b[0m\u001b[0msent\u001b[0m\u001b[0;34m)\u001b[0m\u001b[0;34m:\u001b[0m\u001b[0;34m\u001b[0m\u001b[0m\n\u001b[0;32m----> 3\u001b[0;31m     \u001b[0msentPred\u001b[0m \u001b[0;34m=\u001b[0m \u001b[0mNBClassifier\u001b[0m\u001b[0;34m.\u001b[0m\u001b[0mpredict\u001b[0m\u001b[0;34m(\u001b[0m\u001b[0mmyVectorizer\u001b[0m\u001b[0;34m.\u001b[0m\u001b[0mtransform\u001b[0m\u001b[0;34m(\u001b[0m\u001b[0mtransformSentence\u001b[0m\u001b[0;34m(\u001b[0m\u001b[0msent\u001b[0m\u001b[0;34m)\u001b[0m\u001b[0;34m)\u001b[0m\u001b[0;34m.\u001b[0m\u001b[0mtoarray\u001b[0m\u001b[0;34m(\u001b[0m\u001b[0;34m)\u001b[0m\u001b[0;34m)\u001b[0m\u001b[0;34m\u001b[0m\u001b[0m\n\u001b[0m\u001b[1;32m      4\u001b[0m     \u001b[0;32mreturn\u001b[0m \u001b[0msentPred\u001b[0m\u001b[0;34m\u001b[0m\u001b[0m\n",
      "\u001b[0;31mNameError\u001b[0m: name 'transformSentence' is not defined"
     ]
    }
   ],
   "source": [
    "#Printing the predicted emotion\n",
    "print(\"Navie bayes prediction\")\n",
    "print(predictSentNB(sent))\n",
    "print(\"SVM prediction\")\n",
    "print(predictSentSVM(sent))"
   ]
  },
  {
   "cell_type": "code",
   "execution_count": 32,
   "metadata": {},
   "outputs": [
    {
     "data": {
      "image/png": "[encoded data removed]",
      "text/plain": [
       "<Figure size 504x504 with 2 Axes>"
      ]
     },
     "metadata": {
      "needs_background": "light"
     },
     "output_type": "display_data"
    }
   ],
   "source": [
    "#printing the Confusion Matrix\n",
    "\n",
    "from sklearn.metrics import confusion_matrix\n",
    "import seaborn as sns\n",
    "labels = ['anger', 'disgust','fear','guilt','joy','sadness','shame']\n",
    "cm = confusion_matrix(Y_test, myPredTest,labels)\n",
    "#print(cm)\n",
    "fig, ax = plt.subplots(figsize=(7,7))\n",
    "sns.heatmap(cm, annot=True,fmt='d',\n",
    "            xticklabels=labels, yticklabels=labels,cmap='Blues')\n",
    "plt.ylabel('Actual Emotions')\n",
    "plt.xlabel('Predicted Emotions')\n",
    "plt.show()"
   ]
  },
  {
   "cell_type": "code",
   "execution_count": null,
   "metadata": {},
   "outputs": [],
   "source": []
  },
  {
   "cell_type": "code",
   "execution_count": null,
   "metadata": {},
   "outputs": [],
   "source": []
  }
 ],
 "metadata": {
  "kernelspec": {
   "display_name": "Python 3",
   "language": "python",
   "name": "python3"
  },
  "language_info": {
   "codemirror_mode": {
    "name": "ipython",
    "version": 3
   },
   "file_extension": ".py",
   "mimetype": "text/x-python",
   "name": "python",
   "nbconvert_exporter": "python",
   "pygments_lexer": "ipython3",
   "version": "3.5.5"
  }
 },
 "nbformat": 4,
 "nbformat_minor": 2
}
